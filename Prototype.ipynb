{
 "cells": [
  {
   "cell_type": "code",
   "execution_count": null,
   "metadata": {
    "vscode": {
     "languageId": "plaintext"
    }
   },
   "outputs": [],
   "source": [
    "import cv2\n",
    "import face_recognition\n",
    "import numpy as np\n",
    "\n",
    "# Load the stored image and encode it\n",
    "stored_image_path = \"stored_person.jpg\"  # Replace with your image path\n",
    "stored_image = face_recognition.load_image_file(stored_image_path)\n",
    "stored_encoding = face_recognition.face_encodings(stored_image)[0]  # Get first face encoding\n",
    "\n",
    "# Start webcam\n",
    "video_capture = cv2.VideoCapture(0)\n",
    "\n",
    "while True:\n",
    "    ret, frame = video_capture.read()  # Capture frame-by-frame\n",
    "    if not ret:\n",
    "        continue\n",
    "\n",
    "    # Convert frame to RGB (face_recognition uses RGB)\n",
    "    rgb_frame = frame[:, :, ::-1]\n",
    "\n",
    "    # Detect face locations and encodings\n",
    "    face_locations = face_recognition.face_locations(rgb_frame)\n",
    "    face_encodings = face_recognition.face_encodings(rgb_frame, face_locations)\n",
    "\n",
    "    for face_encoding, face_location in zip(face_encodings, face_locations):\n",
    "        # Compare the face with the stored image\n",
    "        matches = face_recognition.compare_faces([stored_encoding], face_encoding)\n",
    "        name = \"Unknown\"\n",
    "\n",
    "        if True in matches:\n",
    "            name = \"Matched Person\"\n",
    "\n",
    "        # Draw a rectangle around the face and display the result\n",
    "        top, right, bottom, left = face_location\n",
    "        cv2.rectangle(frame, (left, top), (right, bottom), (0, 255, 0), 2)\n",
    "        cv2.putText(frame, name, (left, top - 10), cv2.FONT_HERSHEY_SIMPLEX, 0.8, (0, 255, 0), 2)\n",
    "\n",
    "    # Show the result\n",
    "    cv2.imshow(\"Face Recognition\", frame)\n",
    "\n",
    "    # Press 'q' to quit\n",
    "    if cv2.waitKey(1) & 0xFF == ord('q'):\n",
    "        break\n",
    "\n",
    "# Release resources\n",
    "video_capture.release()\n",
    "cv2.destroyAllWindows()\n"
   ]
  },
  {
   "cell_type": "code",
   "execution_count": null,
   "metadata": {
    "vscode": {
     "languageId": "plaintext"
    }
   },
   "outputs": [],
   "source": [
    "pip install opencv-python numpy face-recognition\n"
   ]
  }
 ],
 "metadata": {
  "language_info": {
   "name": "python"
  }
 },
 "nbformat": 4,
 "nbformat_minor": 2
}
